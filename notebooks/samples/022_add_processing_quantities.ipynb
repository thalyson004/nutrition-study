{
 "cells": [
  {
   "cell_type": "code",
   "execution_count": 1,
   "metadata": {},
   "outputs": [],
   "source": [
    "import sys\n",
    "sys.path.append(\"../..\")"
   ]
  },
  {
   "cell_type": "code",
   "execution_count": 10,
   "metadata": {},
   "outputs": [],
   "source": [
    "import pandas as pd\n",
    "from pandas import DataFrame\n",
    "\n",
    "import os\n",
    "\n",
    "from bokeh.io import export_png, export_svgs\n",
    "from bokeh.models import ColumnDataSource, DataTable, TableColumn\n",
    "from pandas import DataFrame\n",
    "\n",
    "\n",
    "\n",
    "# Use simple function\n",
    "from app.components.search.papa_search import papaSingleSeach, SearchResult\n",
    "\n",
    "from app.components.graphs.polar import plot_multiple_polar_charts\n",
    "\n",
    "from app.components.extract_data.dataframes.dictionaries.nutrients import nutrients_signal\n",
    "\n",
    "import random\n",
    "import pickle\n",
    "from IPython.display import clear_output\n",
    "\n",
    "# Use simple function\n",
    "from app.components.search.papa_search import papaSingleSeach, SearchResult"
   ]
  },
  {
   "cell_type": "code",
   "execution_count": 3,
   "metadata": {},
   "outputs": [],
   "source": [
    "dataset = pd.read_sas(os.getcwd()+\"/../../datasets/processed.sas7bdat\")"
   ]
  },
  {
   "cell_type": "code",
   "execution_count": 4,
   "metadata": {},
   "outputs": [
    {
     "name": "stdout",
     "output_type": "stream",
     "text": [
      "Loading basic data\n",
      "Loading basic dictionary\n",
      "Finish!\n"
     ]
    }
   ],
   "source": [
    "# Import dictonaries and Types\n",
    "from app.components.basic_dataframes import dictMealState, dfMealCode, dfMealState\n",
    "from app.components.simple_types import Nutrition, State\n",
    "from app.components.extract_data.extract_data import *"
   ]
  },
  {
   "cell_type": "code",
   "execution_count": 5,
   "metadata": {},
   "outputs": [],
   "source": [
    "meal_codes = get_meals_codes()"
   ]
  },
  {
   "cell_type": "code",
   "execution_count": 6,
   "metadata": {},
   "outputs": [],
   "source": [
    "meal_nutrients = getDictNutritionByMeal()"
   ]
  },
  {
   "cell_type": "code",
   "execution_count": 7,
   "metadata": {},
   "outputs": [
    {
     "data": {
      "text/html": [
       "<div>\n",
       "<style scoped>\n",
       "    .dataframe tbody tr th:only-of-type {\n",
       "        vertical-align: middle;\n",
       "    }\n",
       "\n",
       "    .dataframe tbody tr th {\n",
       "        vertical-align: top;\n",
       "    }\n",
       "\n",
       "    .dataframe thead th {\n",
       "        text-align: right;\n",
       "    }\n",
       "</style>\n",
       "<table border=\"1\" class=\"dataframe\">\n",
       "  <thead>\n",
       "    <tr style=\"text-align: right;\">\n",
       "      <th></th>\n",
       "      <th>cod_pof_18</th>\n",
       "      <th>prep_pof_18</th>\n",
       "      <th>natura_kcal1</th>\n",
       "      <th>ing_kcal1</th>\n",
       "      <th>proc_kcal1</th>\n",
       "      <th>ultra_kcal1</th>\n",
       "      <th>kcal1</th>\n",
       "    </tr>\n",
       "  </thead>\n",
       "  <tbody>\n",
       "    <tr>\n",
       "      <th>1739</th>\n",
       "      <td>8000101.0</td>\n",
       "      <td>99.0</td>\n",
       "      <td>0.0</td>\n",
       "      <td>0.0</td>\n",
       "      <td>299.725555</td>\n",
       "      <td>0.0</td>\n",
       "      <td>299.725555</td>\n",
       "    </tr>\n",
       "  </tbody>\n",
       "</table>\n",
       "</div>"
      ],
      "text/plain": [
       "      cod_pof_18  prep_pof_18  natura_kcal1  ing_kcal1  proc_kcal1   \n",
       "1739   8000101.0         99.0           0.0        0.0  299.725555  \\\n",
       "\n",
       "      ultra_kcal1       kcal1  \n",
       "1739          0.0  299.725555  "
      ]
     },
     "execution_count": 7,
     "metadata": {},
     "output_type": "execute_result"
    }
   ],
   "source": [
    "dataset[ dataset[\"cod_pof_18\"]==8000101 ]"
   ]
  },
  {
   "cell_type": "code",
   "execution_count": 8,
   "metadata": {},
   "outputs": [
    {
     "data": {
      "text/plain": [
       "{'ENERGIA_KCAL': 3.0,\n",
       " 'CHOTOT': 0.6164000000000001,\n",
       " 'PTN': 0.0983,\n",
       " 'LIP': 0.0212,\n",
       " 'FIBRA': 0.026099999999999998,\n",
       " 'COLEST': 0.0,\n",
       " 'CALCIO': 0.1418,\n",
       " 'AGTRANS': 0.0025,\n",
       " 'AGSAT': 0.0068,\n",
       " 'AGPOLI': 0.0048000000000000004,\n",
       " 'SODIO': 6.819,\n",
       " 'POTASSIO': 1.497,\n",
       " 'FERRO': 0.043300000000000005,\n",
       " 'MAGNESIO': 0.2488,\n",
       " 'TIAMINA': 0.0040999999999999995,\n",
       " 'RIBOFLAVINA': 0.007,\n",
       " 'PIRIDOXAMINA': 0.0063,\n",
       " 'NIACINA': 0.0246,\n",
       " 'COBALAMINA': 0.0,\n",
       " 'VITC': 0.0,\n",
       " 'VITA_RAE': 0.020399999999999998,\n",
       " 'COBRE': 0.0014,\n",
       " 'FOLATO': 1.4955,\n",
       " 'FOSFORO': 0.9975,\n",
       " 'ZINCO': 0.008199999999999999}"
      ]
     },
     "execution_count": 8,
     "metadata": {},
     "output_type": "execute_result"
    }
   ],
   "source": [
    "meal_nutrients[8000101]"
   ]
  },
  {
   "cell_type": "code",
   "execution_count": 9,
   "metadata": {},
   "outputs": [
    {
     "data": {
      "text/html": [
       "<div>\n",
       "<style scoped>\n",
       "    .dataframe tbody tr th:only-of-type {\n",
       "        vertical-align: middle;\n",
       "    }\n",
       "\n",
       "    .dataframe tbody tr th {\n",
       "        vertical-align: top;\n",
       "    }\n",
       "\n",
       "    .dataframe thead th {\n",
       "        text-align: right;\n",
       "    }\n",
       "</style>\n",
       "<table border=\"1\" class=\"dataframe\">\n",
       "  <thead>\n",
       "    <tr style=\"text-align: right;\">\n",
       "      <th></th>\n",
       "      <th>V9001</th>\n",
       "    </tr>\n",
       "  </thead>\n",
       "  <tbody>\n",
       "    <tr>\n",
       "      <th>0</th>\n",
       "      <td>8000101</td>\n",
       "    </tr>\n",
       "    <tr>\n",
       "      <th>1</th>\n",
       "      <td>7901602</td>\n",
       "    </tr>\n",
       "    <tr>\n",
       "      <th>2</th>\n",
       "      <td>8501303</td>\n",
       "    </tr>\n",
       "    <tr>\n",
       "      <th>3</th>\n",
       "      <td>6906602</td>\n",
       "    </tr>\n",
       "    <tr>\n",
       "      <th>4</th>\n",
       "      <td>6300101</td>\n",
       "    </tr>\n",
       "    <tr>\n",
       "      <th>...</th>\n",
       "      <td>...</td>\n",
       "    </tr>\n",
       "    <tr>\n",
       "      <th>1496</th>\n",
       "      <td>8008201</td>\n",
       "    </tr>\n",
       "    <tr>\n",
       "      <th>1497</th>\n",
       "      <td>7805401</td>\n",
       "    </tr>\n",
       "    <tr>\n",
       "      <th>1498</th>\n",
       "      <td>8500345</td>\n",
       "    </tr>\n",
       "    <tr>\n",
       "      <th>1499</th>\n",
       "      <td>8500358</td>\n",
       "    </tr>\n",
       "    <tr>\n",
       "      <th>1500</th>\n",
       "      <td>8579079</td>\n",
       "    </tr>\n",
       "  </tbody>\n",
       "</table>\n",
       "<p>1501 rows × 1 columns</p>\n",
       "</div>"
      ],
      "text/plain": [
       "        V9001\n",
       "0     8000101\n",
       "1     7901602\n",
       "2     8501303\n",
       "3     6906602\n",
       "4     6300101\n",
       "...       ...\n",
       "1496  8008201\n",
       "1497  7805401\n",
       "1498  8500345\n",
       "1499  8500358\n",
       "1500  8579079\n",
       "\n",
       "[1501 rows x 1 columns]"
      ]
     },
     "execution_count": 9,
     "metadata": {},
     "output_type": "execute_result"
    }
   ],
   "source": [
    "meal_codes"
   ]
  },
  {
   "cell_type": "code",
   "execution_count": null,
   "metadata": {},
   "outputs": [],
   "source": [
    "dfColetiva = getDf"
   ]
  }
 ],
 "metadata": {
  "kernelspec": {
   "display_name": "env",
   "language": "python",
   "name": "python3"
  },
  "language_info": {
   "codemirror_mode": {
    "name": "ipython",
    "version": 3
   },
   "file_extension": ".py",
   "mimetype": "text/x-python",
   "name": "python",
   "nbconvert_exporter": "python",
   "pygments_lexer": "ipython3",
   "version": "3.9.6"
  }
 },
 "nbformat": 4,
 "nbformat_minor": 2
}
