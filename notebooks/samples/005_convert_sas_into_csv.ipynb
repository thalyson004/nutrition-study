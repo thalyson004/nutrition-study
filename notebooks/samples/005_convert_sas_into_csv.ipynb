{
 "cells": [
  {
   "cell_type": "code",
   "execution_count": 25,
   "metadata": {},
   "outputs": [],
   "source": [
    "import sys\n",
    "sys.path.append(\"..\")\n",
    "\n",
    "import os\n",
    "import pandas as pd\n",
    "\n",
    "\n",
    "path = os.getcwd() + \"\\\\..\\\\..\\\\datasets\"\n",
    "\n",
    "file_list = os.listdir(path)\n",
    "\n",
    "for item in file_list:\n",
    "    if(\"sas7bdat\" in item):        \n",
    "        sas_data = pd.read_sas(path + '/' + item)\n",
    "\n",
    "        sas_data.to_csv(path+\"/\"+item.split('.')[0]+'.csv', index=False, sep=';')"
   ]
  }
 ],
 "metadata": {
  "kernelspec": {
   "display_name": "env",
   "language": "python",
   "name": "python3"
  },
  "language_info": {
   "codemirror_mode": {
    "name": "ipython",
    "version": 3
   },
   "file_extension": ".py",
   "mimetype": "text/x-python",
   "name": "python",
   "nbconvert_exporter": "python",
   "pygments_lexer": "ipython3",
   "version": "3.9.6"
  }
 },
 "nbformat": 4,
 "nbformat_minor": 2
}
