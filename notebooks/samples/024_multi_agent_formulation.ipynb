{
 "cells": [
  {
   "cell_type": "code",
   "execution_count": 111,
   "metadata": {},
   "outputs": [],
   "source": [
    "import sys\n",
    "sys.path.append(\"../..\")\n",
    "\n",
    "import os\n",
    "import pickle\n",
    "import random\n",
    "\n",
    "from copy import deepcopy\n",
    "\n",
    "import pandas as pd\n",
    "from pandas import DataFrame\n",
    "\n",
    "from app.components.extract_data.extract_data import getDfPerson, getDfConsumo, getDictV9001toGroupPt, getDictV9001toGroupEn\n",
    "from app.components.simple_types import Nutrition, State\n",
    "from app.components.search.papa_search import SearchResult, papaSingleSeach, fitness, SearchResult\n",
    "from typing import Callable\n",
    "\n",
    "from app.components.extract_data.extract_data import (\n",
    "    getDictPersonIdStrata,\n",
    "    getDictStrataMeals,\n",
    ")"
   ]
  },
  {
   "cell_type": "code",
   "execution_count": 112,
   "metadata": {},
   "outputs": [],
   "source": [
    "datasetPath = os.getcwd() + \"/../../datasets/\"\n",
    "datasetPicklePath = os.getcwd() + \"/../../datasets/pickle/\""
   ]
  },
  {
   "cell_type": "code",
   "execution_count": 113,
   "metadata": {},
   "outputs": [],
   "source": [
    "dfConsumo = getDfConsumo()\n",
    "dfPerson = getDfPerson()"
   ]
  },
  {
   "cell_type": "code",
   "execution_count": 114,
   "metadata": {},
   "outputs": [
    {
     "data": {
      "text/plain": [
       "575"
      ]
     },
     "execution_count": 114,
     "metadata": {},
     "output_type": "execute_result"
    }
   ],
   "source": [
    "len(dfPerson[\"ESTRATO_POF\"].unique())"
   ]
  },
  {
   "cell_type": "code",
   "execution_count": 115,
   "metadata": {},
   "outputs": [],
   "source": [
    "class PersonInformation:\n",
    "    def __init__(self, person:str):\n",
    "        # Id da pessoa no POF\n",
    "        self.id:str = person\n",
    "        # Dieta inicial da pessoa\n",
    "        self.initialDiet:State = State.getStateByPersonId(person)        \n",
    "        # Dieta inicial do passo atual\n",
    "        self.actualDiet:State = State.getStateByPersonId(person) \n",
    "        # Nutriçao recomendada para a pessoa\n",
    "        self.targetNutrition= Nutrition.idealNutritionByPersonId(person) "
   ]
  },
  {
   "cell_type": "code",
   "execution_count": 116,
   "metadata": {},
   "outputs": [],
   "source": [
    "class DietAgent:\n",
    "    def __init__(self, person:str):\n",
    "        self.personInformation:PersonInformation = PersonInformation(person)\n",
    "        self.optimizedDiets:list[State] = [State.getStateByPersonId(person)]"
   ]
  },
  {
   "cell_type": "code",
   "execution_count": 117,
   "metadata": {},
   "outputs": [],
   "source": [
    "class DietAllyEnemy:\n",
    "    def __init__(self, person:str):\n",
    "        self.enemy:int = -1\n",
    "        self.ally:int = -1\n",
    "        self.bestDiet:State = State.getStateByPersonId(person) \n",
    "        self.bestDietFitness:float = None\n",
    "    "
   ]
  },
  {
   "cell_type": "code",
   "execution_count": 118,
   "metadata": {},
   "outputs": [],
   "source": [
    "class HealthAgent:\n",
    "    def __init__(self):\n",
    "        self.personDietAllyEnemmy:dict[str, DietAllyEnemy] = {}\n",
    "        self.dietAgents:dict[str, DietAgent] = {}\n",
    "        \n",
    "    def add_person(self, person:str): \n",
    "        self.personDietAllyEnemmy[person] = DietAllyEnemy(person)\n",
    "        self.dietAgents[person] = DietAgent(person)\n",
    "        \n",
    "    def assign_social(self):\n",
    "        allies = list(self.dietAgents.keys())\n",
    "        enemies = list(self.dietAgents.keys())\n",
    "        random.shuffle( allies )\n",
    "        random.shuffle( enemies )\n",
    "        \n",
    "        people = list(self.dietAgents.keys())\n",
    "        for id, person in enumerate(people):\n",
    "            self.personDietAllyEnemmy[person].ally = allies[id]\n",
    "            self.personDietAllyEnemmy[person].enemy = enemies[id]\n",
    "            \n",
    "    def updateBest(self, person:str, candidateBest:State, nutritionFactor:float=1.2, distanceFactor:float=0.1):\n",
    "        self.personDietAllyEnemmy[person]\n",
    "        \n",
    "        if self.personDietAllyEnemmy[person].bestDietFitness == None:\n",
    "            self.personDietAllyEnemmy[person].bestDietFitness = fitness(\n",
    "                state=self.personDietAllyEnemmy[person].bestDiet,\n",
    "                initialState=self.dietAgents[person].personInformation.actualDiet,\n",
    "                targetNutrition=self.dietAgents[person].personInformation.targetNutrition,\n",
    "                nutritionFactor=nutritionFactor,\n",
    "                distanceFactor=distanceFactor, \n",
    "            )\n",
    "        \n",
    "        candidateFitness = fitness(\n",
    "            state=candidateBest,\n",
    "            initialState=self.dietAgents[person].personInformation.actualDiet,\n",
    "            targetNutrition=self.dietAgents[person].personInformation.targetNutrition,\n",
    "            nutritionFactor=nutritionFactor,\n",
    "            distanceFactor=distanceFactor, \n",
    "        )\n",
    "        \n",
    "        if( self.personDietAllyEnemmy[person].bestDietFitness > candidateFitness ):\n",
    "            self.personDietAllyEnemmy[person].bestDietFitness = candidateFitness\n",
    "            self.personDietAllyEnemmy[person].bestDiet = candidateBest\n",
    "    \n",
    "    def get_diet_allyDiet_enemyDiet(self, person:str):\n",
    "        ally = self.personDietAllyEnemmy[person].ally\n",
    "        enemmy = self.personDietAllyEnemmy[person].ally\n",
    "        \n",
    "        diets = self.dietAgents[person].optimizedDiets\n",
    "        dietsAlly = self.dietAgents[ally].optimizedDiets  \n",
    "        dietsEnemy = self.dietAgents[enemmy].optimizedDiets\n",
    "        \n",
    "        return diets, dietsAlly, dietsEnemy\n",
    "    \n",
    "    def hero(self, person:str):\n",
    "        diets, dietsAlly, dietsEnemy = self.get_diet_allyDiet_enemyDiet(person)\n",
    "        strata = getDictPersonIdStrata().get(person, None)\n",
    "        mealList = getDictStrataMeals()[strata]\n",
    "        \n",
    "        newDiets = []\n",
    "        for diet in diets:\n",
    "            dietAlly = random.choice(dietsAlly)\n",
    "            dietEnemy = random.choice(dietsEnemy)\n",
    "            \n",
    "            newDiet = State(diet.data)\n",
    "            for meal in mealList:\n",
    "                if( dietAlly[meal]>0.0 ):\n",
    "                    newDiet[meal] = (newDiet[meal]+dietAlly[meal]+dietEnemy[meal])/3.0\n",
    "            \n",
    "            newDiets.append(newDiet)\n",
    "            \n",
    "        self.dietAgents[person].optimizedDiets.extend(newDiets)\n",
    "        return newDiets\n",
    "    \n",
    "    def coward(self, person:str): \n",
    "        diets, dietsAlly, dietsEnemy = self.get_diet_allyDiet_enemyDiet(person)\n",
    "        strata = getDictPersonIdStrata().get(person, None)\n",
    "        mealList = getDictStrataMeals()[strata]\n",
    "        \n",
    "        newDiets = []\n",
    "        for diet in diets:\n",
    "            dietAlly = random.choice(dietsAlly)\n",
    "            dietEnemy = random.choice(dietsEnemy)\n",
    "            \n",
    "            newDiet = State(diet.data)\n",
    "            for meal in mealList:\n",
    "                if( abs(diet[meal]-dietAlly[meal]) < abs(diet[meal]-dietEnemy[meal])):\n",
    "                    newDiet[meal] = (newDiet[meal]+dietAlly[meal])/2.0\n",
    "                else:\n",
    "                    newDiet[meal] = dietAlly[meal]\n",
    "            newDiets.append(newDiet)\n",
    "            \n",
    "        self.dietAgents[person].optimizedDiets.extend(newDiets)\n",
    "        return newDiets"
   ]
  },
  {
   "cell_type": "code",
   "execution_count": 119,
   "metadata": {},
   "outputs": [],
   "source": [
    "personID = \"110000016#7#1#5\""
   ]
  },
  {
   "cell_type": "code",
   "execution_count": 120,
   "metadata": {},
   "outputs": [],
   "source": [
    "healthAgent = HealthAgent()\n",
    "dietAgent = DietAgent(personID)"
   ]
  },
  {
   "cell_type": "code",
   "execution_count": 121,
   "metadata": {},
   "outputs": [],
   "source": [
    "healthAgent.add_person(personID)"
   ]
  },
  {
   "cell_type": "code",
   "execution_count": null,
   "metadata": {},
   "outputs": [],
   "source": [
    "#Find people \n",
    "dfPerson = getDfPerson()\n",
    "stratos = dfPerson[ (dfPerson[\"AGE\"]==25) & (dfPerson[\"GENDER\"]==\"male\") ][\"ESTRATO_POF\"].to_list()\n",
    "quantity = 100\n",
    "male25 = dfPerson[ (dfPerson[\"AGE\"]==25) & (dfPerson[\"GENDER\"]==\"male\") ][\"PESSOA\"].to_list()[:quantity]\n",
    "male60 = dfPerson[ (dfPerson[\"AGE\"]==60) & (dfPerson[\"GENDER\"]==\"male\") ][\"PESSOA\"].to_list()[:quantity]\n",
    "female25 = dfPerson[ (dfPerson[\"AGE\"]==25) & (dfPerson[\"GENDER\"]==\"female\") ][\"PESSOA\"].to_list()[:quantity]\n",
    "female60 = dfPerson[ (dfPerson[\"AGE\"]==60) & (dfPerson[\"GENDER\"]==\"female\") ][\"PESSOA\"].to_list()[:quantity]"
   ]
  },
  {
   "cell_type": "code",
   "execution_count": null,
   "metadata": {},
   "outputs": [],
   "source": [
    "def multiAgentSearch(\n",
    "        people:list[str], \n",
    "        resultFileName:str, \n",
    "        maxInterations:int = 3,\n",
    "        maxSteps:int = 10,\n",
    "        maxSearchSteps:int = 10,\n",
    "        nutritionFactor:float = 1.2,\n",
    "        distanceFactor:float = 0.1, \n",
    "        verbose:bool=False) -> dict[str, list[SearchResult]]:\n",
    "    try:\n",
    "        with open(\"./output/\" + resultFileName, \"rb\") as file:\n",
    "            return pickle.load(file)\n",
    "    except:\n",
    "        \n",
    "        healthAgent = HealthAgent()\n",
    "        for person in people:\n",
    "            healthAgent.add_person(person)\n",
    "        healthAgent.assign_social()\n",
    "        \n",
    "        results:dict[str, list[SearchResult]] = {}\n",
    "        \n",
    "        phases = [\"corward\", \"hero\"]\n",
    "        \n",
    "        for interation in range(maxInterations):\n",
    "            print(\"interation:\", interation)\n",
    "            \n",
    "            # RUN multiAgentSearch\n",
    "            for step in range(maxSteps):\n",
    "                                \n",
    "                for agent in healthAgent.dietAgents.values():\n",
    "                    person = agent.personInformation.id\n",
    "                    \n",
    "                    # Interação Social\n",
    "                    if phases[step%2] == \"corward\":\n",
    "                        healthAgent.coward(person)\n",
    "                    elif phases[step%2] == \"hero\":\n",
    "                        healthAgent.hero(person)\n",
    "          \n",
    "                    result = papaSingleSeach(\n",
    "                                personID=person, \n",
    "                                verbose=False, \n",
    "                                unit=50, \n",
    "                                max_unit=3, \n",
    "                                max_population_set=20, \n",
    "                                max_population_selected=10, \n",
    "                                expansion_set=20, \n",
    "                                expansion_select=5, \n",
    "                                max_steps=maxSearchSteps, \n",
    "                                nutritionFitness=Nutrition.absDifferenceNegativePenalty, \n",
    "                                nutritionFactor=nutritionFactor,\n",
    "                                distanceFitness=State.squareDifference,\n",
    "                                distanceFactor = distanceFactor,\n",
    "                                preserve_best=True,\n",
    "                                crossover=0.1, \n",
    "                                initialState=agent.personInformation.actualDiet,\n",
    "                                initialPopulation=agent.optimizedDiets,\n",
    "                            )\n",
    "\n",
    "                    healthAgent.updateBest(\n",
    "                            person=person,\n",
    "                            candidateBest=result.finalMeal,\n",
    "                        )\n",
    "                        \n",
    "                       \n",
    "            if verbose:\n",
    "                print(\"### Interation\", interation, \"####\\n\")\n",
    "                \n",
    "            for agent in healthAgent.dietAgents.values():\n",
    "                person = agent.personInformation.id \n",
    "                \n",
    "                if verbose:\n",
    "                    print(\"Agent:\", person)\n",
    "                    print(\"Initial diet:\", agent.personInformation.actualDiet)\n",
    "                    print(\"Final diet:\", healthAgent.personDietAllyEnemmy[person].bestDiet)\n",
    "                \n",
    "                initialFitness = fitness(\n",
    "                    agent.personInformation.actualDiet,\n",
    "                    agent.personInformation.actualDiet,\n",
    "                    agent.personInformation.targetNutrition,\n",
    "                    nutritionFactor=nutritionFactor,\n",
    "                    distanceFactor=distanceFactor,\n",
    "                )\n",
    "                \n",
    "                if verbose:\n",
    "                    print(\"Initial fitness:\", initialFitness)\n",
    "                    print(\"Final fitness:\", healthAgent.personDietAllyEnemmy[person].bestDietFitness)\n",
    "                    print(\"#############\")\n",
    "                \n",
    "                if results.get(person, None) == None:\n",
    "                    results[person] = list()\n",
    "                \n",
    "                results[person].append(\n",
    "                            SearchResult(\n",
    "                                [person],\n",
    "                                agent.personInformation.actualDiet,\n",
    "                                healthAgent.personDietAllyEnemmy[person].bestDiet,\n",
    "                            )\n",
    "                        )\n",
    "                \n",
    "                agent.personInformation.actualDiet = deepcopy(healthAgent.personDietAllyEnemmy[person].bestDiet)\n",
    "                \n",
    "            \n",
    "        with open(\"./output/\" + resultFileName, \"wb\") as file:\n",
    "            pickle.dump(results, file) \n",
    "        \n",
    "        return results\n",
    "            "
   ]
  },
  {
   "cell_type": "code",
   "execution_count": null,
   "metadata": {},
   "outputs": [
    {
     "name": "stdout",
     "output_type": "stream",
     "text": [
      "Starting: male25_100_agent.pickle\n",
      "Starting: female25_100_agent.pickle\n",
      "Starting: male60_100_agent.pickle\n",
      "Starting: female60_100_agent.pickle\n"
     ]
    }
   ],
   "source": [
    "\n",
    "groups = [male25, female25, male60, female60] \n",
    "fileNames = [\n",
    "    \"male25_100_agent.pickle\",\n",
    "    \"female25_100_agent.pickle\",\n",
    "    \"male60_100_agent.pickle\",\n",
    "    \"female60_100_agent.pickle\"\n",
    "]\n",
    "resultsArray:list[dict[str, list[SearchResult]]]= [\n",
    "    {},{},{},{}\n",
    "]\n",
    "\n",
    "for i, group in enumerate(groups):\n",
    "    fileName = fileNames[i]\n",
    "    print(\"Starting:\", fileName)\n",
    "\n",
    "    resultsArray[i] = multiAgentSearch(\n",
    "                    people=group, \n",
    "                    resultFileName=fileName, \n",
    "                    maxInterations=4, \n",
    "                    maxSteps=10, \n",
    "                    maxSearchSteps=5,\n",
    "                    verbose=False\n",
    "                )"
   ]
  },
  {
   "cell_type": "code",
   "execution_count": 140,
   "metadata": {},
   "outputs": [
    {
     "name": "stdout",
     "output_type": "stream",
     "text": [
      "Person: 110004584#15#1#1\n",
      "[4668.263681910302, 6060.571374217994, 2132.4813055979303, 736.1321321165658, 661.2439021343677]\n",
      "Person: 110010188#3#1#4\n",
      "[7501.0536221218745, 9808.745929814182, 3206.2208978690473, 1511.5256987063324, 1124.9341313463542]\n",
      "Person: 110012387#6#1#3\n",
      "[4612.694675254262, 5268.386982946569, 2410.312806304838, 1662.512000326781, 1247.782379067193]\n",
      "Person: 110004584#15#1#1\n",
      "[4668.263681910302, 5868.263681910302, 2080.808894247472, 1050.4786025719998, 848.9540995740292]\n",
      "Person: 110010188#3#1#4\n",
      "[7501.0536221218745, 10001.053622121874, 3222.6206746904686, 975.6134922790834, 975.6134922790834]\n",
      "Person: 110012387#6#1#3\n",
      "[4612.694675254262, 5189.617752177339, 2285.0453364883747, 1724.7442566753268, 1724.7442566753268]\n",
      "Person: 110004584#15#1#1\n",
      "[4668.263681910302, 6060.571374217994, 2123.735122538401, 736.1321321165658, 661.2439021343677]\n",
      "Person: 110010188#3#1#4\n",
      "[7501.0536221218745, 9424.130545198797, 3684.40563543615, 1329.9138638534012, 1329.9138638534012]\n",
      "Person: 110012387#6#1#3\n",
      "[4612.694675254262, 5189.617752177339, 2370.5154219584597, 1627.3146182884127, 1632.0186025137596]\n",
      "Person: 110004584#15#1#1\n",
      "[4668.263681910302, 6060.571374217994, 1823.520629297695, 848.9540995740292, 848.9540995740292]\n",
      "Person: 110010188#3#1#4\n",
      "[7501.0536221218745, 9887.515160583413, 3062.7774949914133, 1458.2776746196762, 1058.7579497933189]\n",
      "Person: 110012387#6#1#3\n",
      "[4612.694675254262, 5189.617752177339, 2413.2504646935026, 1597.3599707995118, 1422.2901553462302]\n"
     ]
    }
   ],
   "source": [
    "for personResult in resultsArray:\n",
    "    for person, results in personResult.items():\n",
    "        print(\"Person:\", person)\n",
    "        targetNutrition = Nutrition.idealNutritionByPersonId(person) \n",
    "        fitnessValues = []\n",
    "        fitnessValues.append(fitness(\n",
    "                        results[0].initialMeal,\n",
    "                        results[0].initialMeal,\n",
    "                        targetNutrition,\n",
    "                        nutritionFactor=1.2,\n",
    "                        distanceFactor=0.1,\n",
    "                    ))\n",
    "        \n",
    "        for result in results:\n",
    "            fitnessValues.append(fitness(\n",
    "                        result.initialMeal,\n",
    "                        result.finalMeal,\n",
    "                        targetNutrition,\n",
    "                        nutritionFactor=1.2,\n",
    "                        distanceFactor=0.1,\n",
    "                    ))\n",
    "            \n",
    "        print(fitnessValues)"
   ]
  },
  {
   "cell_type": "code",
   "execution_count": 143,
   "metadata": {},
   "outputs": [
    {
     "name": "stdout",
     "output_type": "stream",
     "text": [
      "3\n"
     ]
    }
   ],
   "source": [
    "print(len(resultsArray[1]))"
   ]
  },
  {
   "cell_type": "code",
   "execution_count": null,
   "metadata": {},
   "outputs": [],
   "source": []
  }
 ],
 "metadata": {
  "kernelspec": {
   "display_name": "env",
   "language": "python",
   "name": "python3"
  },
  "language_info": {
   "codemirror_mode": {
    "name": "ipython",
    "version": 3
   },
   "file_extension": ".py",
   "mimetype": "text/x-python",
   "name": "python",
   "nbconvert_exporter": "python",
   "pygments_lexer": "ipython3",
   "version": "3.9.6"
  }
 },
 "nbformat": 4,
 "nbformat_minor": 2
}
