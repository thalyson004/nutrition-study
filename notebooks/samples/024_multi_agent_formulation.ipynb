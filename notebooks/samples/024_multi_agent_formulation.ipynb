{
 "cells": [
  {
   "cell_type": "code",
   "execution_count": 1,
   "metadata": {},
   "outputs": [
    {
     "name": "stdout",
     "output_type": "stream",
     "text": [
      "Loading basic data\n",
      "Loading basic dictionary\n",
      "Finish!\n"
     ]
    }
   ],
   "source": [
    "import sys\n",
    "sys.path.append(\"../..\")\n",
    "\n",
    "import os\n",
    "import pickle\n",
    "import random\n",
    "\n",
    "\n",
    "import pandas as pd\n",
    "from pandas import DataFrame\n",
    "\n",
    "from app.components.extract_data.extract_data import getDfPerson, getDfConsumo, getDictV9001toGroupPt, getDictV9001toGroupEn\n",
    "from app.components.simple_types import Nutrition, State\n",
    "from app.components.search.papa_search import SearchResult, papaSingleSeach"
   ]
  },
  {
   "cell_type": "code",
   "execution_count": 2,
   "metadata": {},
   "outputs": [],
   "source": [
    "datasetPath = os.getcwd() + \"/../../datasets/\"\n",
    "datasetPicklePath = os.getcwd() + \"/../../datasets/pickle/\""
   ]
  },
  {
   "cell_type": "code",
   "execution_count": 3,
   "metadata": {},
   "outputs": [],
   "source": [
    "dfConsumo = getDfConsumo()\n",
    "dfPerson = getDfPerson()"
   ]
  },
  {
   "cell_type": "code",
   "execution_count": 4,
   "metadata": {},
   "outputs": [
    {
     "data": {
      "text/plain": [
       "575"
      ]
     },
     "execution_count": 4,
     "metadata": {},
     "output_type": "execute_result"
    }
   ],
   "source": [
    "len(dfPerson[\"ESTRATO_POF\"].unique())"
   ]
  },
  {
   "cell_type": "code",
   "execution_count": 5,
   "metadata": {},
   "outputs": [],
   "source": [
    "class PersonInformation:\n",
    "    def __init__(self, person:str):\n",
    "        self.id:str = person\n",
    "        self.initialDiet:State = State.getStateByPersonId(person)        "
   ]
  },
  {
   "cell_type": "code",
   "execution_count": 6,
   "metadata": {},
   "outputs": [],
   "source": [
    "class DietAgent:\n",
    "    def __init__(self, person:str):\n",
    "        self.personInformation:PersonInformation = PersonInformation(person)\n",
    "        self.optimizedDiets:list[State] = [State.getStateByPersonId(person)]"
   ]
  },
  {
   "cell_type": "code",
   "execution_count": 7,
   "metadata": {},
   "outputs": [],
   "source": [
    "class DietAllyEnemy:\n",
    "    def __init__(self, person:str):\n",
    "        self.enemy:int = -1\n",
    "        self.ally:int = -1\n",
    "        self.diet:State = State.getStateByPersonId(person) \n",
    "    "
   ]
  },
  {
   "cell_type": "code",
   "execution_count": 8,
   "metadata": {},
   "outputs": [],
   "source": [
    "class HealthAgent:\n",
    "    def __init__(self):\n",
    "        self.personDietAllyEnemmy:dict[str, DietAllyEnemy] = {}\n",
    "        self.dieatAgents:list[DietAgent] = []\n",
    "        \n",
    "    def add_person(self, person:str): \n",
    "        self.personDietAllyEnemmy[person] = DietAllyEnemy(person)\n",
    "        self.dieatAgents.append(DietAgent(person))\n",
    "        \n",
    "    def assign_social(self):\n",
    "        allies = list(range(len(self.dieatAgents)))\n",
    "        enemies = list(range(len(self.dieatAgents)))\n",
    "        random.shuffle( allies )\n",
    "        random.shuffle( enemies )\n",
    "        \n",
    "        for id in range(len(self.dieatAgents)):\n",
    "            personID = self.dieatAgents[id].personInformation.id\n",
    "            ally = self.dieatAgents[allies[id]].personInformation.id\n",
    "            enemy = self.dieatAgents[enemies[id]].personInformation.id\n",
    "            \n",
    "            self.personDietAllyEnemmy[personID].ally = ally\n",
    "            self.personDietAllyEnemmy[personID].enemy = enemy\n",
    "            \n",
    "            "
   ]
  },
  {
   "cell_type": "code",
   "execution_count": 9,
   "metadata": {},
   "outputs": [],
   "source": [
    "personID = \"110000016#7#1#5\""
   ]
  },
  {
   "cell_type": "code",
   "execution_count": 10,
   "metadata": {},
   "outputs": [],
   "source": [
    "healthAgent = HealthAgent()\n",
    "dietAgent = DietAgent(personID)"
   ]
  },
  {
   "cell_type": "code",
   "execution_count": 11,
   "metadata": {},
   "outputs": [],
   "source": [
    "healthAgent.add_person(personID)"
   ]
  },
  {
   "cell_type": "code",
   "execution_count": 12,
   "metadata": {},
   "outputs": [],
   "source": [
    "#Find people \n",
    "dfPerson = getDfPerson()\n",
    "stratos = dfPerson[ (dfPerson[\"AGE\"]==25) & (dfPerson[\"GENDER\"]==\"male\") ][\"ESTRATO_POF\"].to_list()\n",
    "quantity = 10\n",
    "male25 = dfPerson[ (dfPerson[\"AGE\"]==25) & (dfPerson[\"GENDER\"]==\"male\") ][\"PESSOA\"].to_list()[:quantity]\n",
    "male60 = dfPerson[ (dfPerson[\"AGE\"]==60) & (dfPerson[\"GENDER\"]==\"male\") ][\"PESSOA\"].to_list()[:quantity]\n",
    "female25 = dfPerson[ (dfPerson[\"AGE\"]==25) & (dfPerson[\"GENDER\"]==\"female\") ][\"PESSOA\"].to_list()[:quantity]\n",
    "female60 = dfPerson[ (dfPerson[\"AGE\"]==60) & (dfPerson[\"GENDER\"]==\"female\") ][\"PESSOA\"].to_list()[:quantity]"
   ]
  },
  {
   "cell_type": "code",
   "execution_count": 13,
   "metadata": {},
   "outputs": [],
   "source": [
    "def multiAgentSearch(\n",
    "        people:list[str], \n",
    "        resultFileName:str, \n",
    "        maxSteps:int = 10, \n",
    "        verbose:bool=False) -> list[list[SearchResult]]:\n",
    "    try:\n",
    "        with open(\"./output/\" + resultFileName, \"rb\") as file:\n",
    "            return pickle.load(file)\n",
    "    except:\n",
    "        \n",
    "        healthAgent = HealthAgent()\n",
    "        for person in people:\n",
    "            healthAgent.add_person(person)\n",
    "        healthAgent.assign_social()\n",
    "        \n",
    "        results = []\n",
    "        phases = [\"corward\", \"hero\"]\n",
    "        \n",
    "        for interation in range(3):\n",
    "            # RUN multiAgentSearch\n",
    "            for step in range(maxSteps):\n",
    "                # operator:function = None\n",
    "                # if generation%2 == 0:\n",
    "                #     # TODO: Fazer o operador covarde\n",
    "                #     operator = cowardOperator\n",
    "                # else:\n",
    "                #     # TODO: Fazer o operador heroi\n",
    "                #     operator = heroOperator\n",
    "                \n",
    "                for agentId, agent in enumerate(healthAgent.dieatAgents):\n",
    "                    print(\"Before:\", agent.optimizedDiets)\n",
    "                    result = papaSingleSeach(\n",
    "                                personID=person, \n",
    "                                verbose=False, \n",
    "                                unit=10, \n",
    "                                max_unit=2, \n",
    "                                max_population_set=20, \n",
    "                                max_population_selected=10, \n",
    "                                expansion_set=50, \n",
    "                                expansion_select=10, \n",
    "                                max_steps=1, \n",
    "                                nutritionFitness=Nutrition.absDifferenceNegativePenalty, \n",
    "                                nutritionFactor=1.2,\n",
    "                                distanceFitness=State.squareDifference,\n",
    "                                distanceFactor = 0.1,\n",
    "                                preserve_best=True,\n",
    "                                crossover=0.2, \n",
    "                                initialPopulation=agent.optimizedDiets,\n",
    "                            )\n",
    "                    print(\"After:\", agent.optimizedDiets)\n",
    "                    break\n",
    "                break\n",
    "            break\n",
    "                    \n",
    "                \n",
    "            \n",
    "            \n",
    "            # Build Results\n",
    "            for i, person in enumerate(people):\n",
    "                results[interation].append(\n",
    "                            SearchResult(\n",
    "                                [person],\n",
    "                                healthAgent.dieatAgents[i].personInformation.initialDiet,\n",
    "                                healthAgent.personDietAllyEnemmy[i].diet,\n",
    "                            ))\n",
    "        \n",
    "        # with open(\"./output/\" + resultFileName, \"wb\") as file:\n",
    "        #     pickle.dump(results, file) \n",
    "        \n",
    "        return results\n",
    "            "
   ]
  },
  {
   "cell_type": "code",
   "execution_count": 14,
   "metadata": {},
   "outputs": [
    {
     "name": "stdout",
     "output_type": "stream",
     "text": [
      "['110004584#15#1#1', '110010188#3#1#4', '110012387#6#1#3', '110021380#9#1#1', '110021533#5#1#1', '120001153#9#1#3', '120002090#16#1#4', '120005005#10#1#1', '120005365#7#1#3', '120005651#8#1#4']\n",
      "Before: [State()]\n",
      "initialPopulation: [State(), State(), State(), State(), State(), State(), State(), State(), State(), State(), State()]\n",
      "After: [State(), State(), State(), State(), State(), State(), State(), State(), State(), State(), State()]\n",
      "[]\n"
     ]
    }
   ],
   "source": [
    "print(male25)\n",
    "results:list[list[SearchResult]] = []\n",
    "results = multiAgentSearch(\n",
    "                people=male25, \n",
    "                resultFileName=\"male25_100_agent.pickle\", \n",
    "                maxSteps=3, \n",
    "                verbose=True\n",
    "            )\n",
    "\n",
    "print(results)"
   ]
  },
  {
   "cell_type": "markdown",
   "metadata": {},
   "source": []
  }
 ],
 "metadata": {
  "kernelspec": {
   "display_name": "env",
   "language": "python",
   "name": "python3"
  },
  "language_info": {
   "codemirror_mode": {
    "name": "ipython",
    "version": 3
   },
   "file_extension": ".py",
   "mimetype": "text/x-python",
   "name": "python",
   "nbconvert_exporter": "python",
   "pygments_lexer": "ipython3",
   "version": "3.9.6"
  }
 },
 "nbformat": 4,
 "nbformat_minor": 2
}
