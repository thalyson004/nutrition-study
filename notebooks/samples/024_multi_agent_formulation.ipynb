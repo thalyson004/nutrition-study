{
 "cells": [
  {
   "cell_type": "code",
   "execution_count": null,
   "metadata": {},
   "outputs": [],
   "source": [
    "import sys\n",
    "sys.path.append(\"../..\")\n",
    "\n",
    "import os\n",
    "import pickle\n",
    "import random\n",
    "\n",
    "\n",
    "import pandas as pd\n",
    "from pandas import DataFrame\n",
    "\n",
    "from app.components.extract_data.extract_data import getDfPerson, getDfConsumo, getDictV9001toGroupPt, getDictV9001toGroupEn\n",
    "from app.components.simple_types import Nutrition, State\n",
    "from app.components.search.papa_search import SearchResult, papaSingleSeach"
   ]
  },
  {
   "cell_type": "code",
   "execution_count": 3,
   "metadata": {},
   "outputs": [],
   "source": [
    "datasetPath = os.getcwd() + \"/../../datasets/\"\n",
    "datasetPicklePath = os.getcwd() + \"/../../datasets/pickle/\""
   ]
  },
  {
   "cell_type": "code",
   "execution_count": 4,
   "metadata": {},
   "outputs": [],
   "source": [
    "dfConsumo = getDfConsumo()\n",
    "dfPerson = getDfPerson()"
   ]
  },
  {
   "cell_type": "code",
   "execution_count": 5,
   "metadata": {},
   "outputs": [
    {
     "data": {
      "text/plain": [
       "575"
      ]
     },
     "execution_count": 5,
     "metadata": {},
     "output_type": "execute_result"
    }
   ],
   "source": [
    "len(dfPerson[\"ESTRATO_POF\"].unique())"
   ]
  },
  {
   "cell_type": "code",
   "execution_count": 6,
   "metadata": {},
   "outputs": [],
   "source": [
    "class PersonInformation:\n",
    "    def __init__(self, person:str):\n",
    "        self.id:str = person\n",
    "        self.initialDiet:State = State.getStateByPersonId(person)        "
   ]
  },
  {
   "cell_type": "code",
   "execution_count": 7,
   "metadata": {},
   "outputs": [],
   "source": [
    "class DietAgent:\n",
    "    def __init__(self, person:str):\n",
    "        self.personInformation:PersonInformation = PersonInformation(person)\n",
    "        self.optimizedDiets:list[State] = [State.getStateByPersonId(person)]"
   ]
  },
  {
   "cell_type": "code",
   "execution_count": 8,
   "metadata": {},
   "outputs": [],
   "source": [
    "class DietAllyEnemy:\n",
    "    def __init__(self, person:str):\n",
    "        self.enemy:int = -1\n",
    "        self.ally:int = -1\n",
    "        self.diet:State = State.getStateByPersonId(person) \n",
    "    "
   ]
  },
  {
   "cell_type": "code",
   "execution_count": null,
   "metadata": {},
   "outputs": [],
   "source": [
    "class HealthAgent:\n",
    "    def __init__(self):\n",
    "        self.personDietAllyEnemmy:dict[str, DietAllyEnemy] = {}\n",
    "        self.dieatAgents:list[DietAgent] = []\n",
    "        \n",
    "    def add_person(self, person:str):     \n",
    "        self.personDietAllyEnemmy[person] = DietAllyEnemy(person)\n",
    "        self.dieatAgents.append(DietAgent(person))\n",
    "        \n",
    "    def assign_social(self):\n",
    "        allies = range(len(self.dieatAgents))\n",
    "        enemies = range(len(self.dieatAgents))\n",
    "        random.shuffle( allies )\n",
    "        random.shuffle( enemies )\n",
    "        \n",
    "        for id in range(len(self.dieatAgents)):\n",
    "            self.personDietAllyEnemmy[id].ally = allies[id]\n",
    "            self.personDietAllyEnemmy[id].enemy = enemies[id]\n",
    "            \n",
    "            "
   ]
  },
  {
   "cell_type": "code",
   "execution_count": 10,
   "metadata": {},
   "outputs": [],
   "source": [
    "personID = \"110000016#7#1#5\""
   ]
  },
  {
   "cell_type": "code",
   "execution_count": 11,
   "metadata": {},
   "outputs": [],
   "source": [
    "healthAgent = HealthAgent()\n",
    "dietAgent = DietAgent(personID)"
   ]
  },
  {
   "cell_type": "code",
   "execution_count": 12,
   "metadata": {},
   "outputs": [],
   "source": [
    "healthAgent.add_person(personID)"
   ]
  },
  {
   "cell_type": "code",
   "execution_count": 13,
   "metadata": {},
   "outputs": [],
   "source": [
    "#Find people \n",
    "dfPerson = getDfPerson()\n",
    "stratos = dfPerson[ (dfPerson[\"AGE\"]==25) & (dfPerson[\"GENDER\"]==\"male\") ][\"ESTRATO_POF\"].to_list()\n",
    "quantity = 10\n",
    "male25 = dfPerson[ (dfPerson[\"AGE\"]==25) & (dfPerson[\"GENDER\"]==\"male\") ][\"PESSOA\"].to_list()[:quantity]\n",
    "male60 = dfPerson[ (dfPerson[\"AGE\"]==60) & (dfPerson[\"GENDER\"]==\"male\") ][\"PESSOA\"].to_list()[:quantity]\n",
    "female25 = dfPerson[ (dfPerson[\"AGE\"]==25) & (dfPerson[\"GENDER\"]==\"female\") ][\"PESSOA\"].to_list()[:quantity]\n",
    "female60 = dfPerson[ (dfPerson[\"AGE\"]==60) & (dfPerson[\"GENDER\"]==\"female\") ][\"PESSOA\"].to_list()[:quantity]"
   ]
  },
  {
   "cell_type": "code",
   "execution_count": null,
   "metadata": {},
   "outputs": [],
   "source": [
    "\n",
    "\n",
    "\n",
    "def multiAgentSearch(people:list[str], resultFileName:str, verbose:bool=False) -> list[list[SearchResult]]:\n",
    "    try:\n",
    "        with open(\"./output/\" + resultFileName, \"rb\") as file:\n",
    "            return pickle.load(file)\n",
    "    except:\n",
    "        \n",
    "        healthAgent = HealthAgent()\n",
    "        for person in people:\n",
    "            healthAgent.add_person(person)\n",
    "        healthAgent.assign_social()\n",
    "        \n",
    "        results = []\n",
    "        phases = [\"corward\", \"hero\"]\n",
    "        \n",
    "        for interation in range(3):\n",
    "            # RUN multiAgentSearch\n",
    "            for generation in range(10):\n",
    "                # operator:function = None\n",
    "                # if generation%2 == 0:\n",
    "                #     # TODO: Fazer o operador covarde\n",
    "                #     operator = cowardOperator\n",
    "                # else:\n",
    "                #     # TODO: Fazer o operador heroi\n",
    "                #     operator = heroOperator\n",
    "                \n",
    "                for agentId, agent in enumerate(healthAgent.dieatAgents):\n",
    "                    result = papaSingleSeach(\n",
    "                                personID=person, \n",
    "                                verbose=False, \n",
    "                                unit=10, \n",
    "                                max_unit=2, \n",
    "                                max_population_set=20, \n",
    "                                max_population_selected=10, \n",
    "                                expansion_set=50, \n",
    "                                expansion_select=10, \n",
    "                                max_steps=1, \n",
    "                                fitness=Nutrition.absDifferenceNegativePenalty, \n",
    "                                crossover=0.2, \n",
    "                                nutritionFactor=0.8,\n",
    "                                distanceFactor = 0.2,\n",
    "                                initialPopulation=agent.optimizedDiets,\n",
    "                            )\n",
    "                    \n",
    "                \n",
    "            \n",
    "            \n",
    "            # Build Results\n",
    "            for i, person in enumerate(people):\n",
    "                results[interation].append(\n",
    "                            SearchResult(\n",
    "                                [person],\n",
    "                                healthAgent.dieatAgents[i].personInformation.initialDiet,\n",
    "                                healthAgent.personDietAllyEnemmy[i].diet,\n",
    "                            ))\n",
    "        \n",
    "        with open(\"./output/\" + resultFileName, \"wb\") as file:\n",
    "            pickle.dump(results, file) \n",
    "        \n",
    "        return results\n",
    "            "
   ]
  },
  {
   "cell_type": "code",
   "execution_count": null,
   "metadata": {},
   "outputs": [
    {
     "data": {
      "text/plain": [
       "100"
      ]
     },
     "execution_count": 56,
     "metadata": {},
     "output_type": "execute_result"
    }
   ],
   "source": [
    "results:list[list[SearchResult]] = []\n",
    "results = multiAgentSearch(male25, \"male25_100_agent.pickle\", True)"
   ]
  },
  {
   "cell_type": "markdown",
   "metadata": {},
   "source": []
  }
 ],
 "metadata": {
  "kernelspec": {
   "display_name": "env",
   "language": "python",
   "name": "python3"
  },
  "language_info": {
   "codemirror_mode": {
    "name": "ipython",
    "version": 3
   },
   "file_extension": ".py",
   "mimetype": "text/x-python",
   "name": "python",
   "nbconvert_exporter": "python",
   "pygments_lexer": "ipython3",
   "version": "3.9.6"
  }
 },
 "nbformat": 4,
 "nbformat_minor": 2
}
