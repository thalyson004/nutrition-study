{
 "cells": [
  {
   "cell_type": "code",
   "execution_count": null,
   "metadata": {},
   "outputs": [
    {
     "name": "stdout",
     "output_type": "stream",
     "text": [
      "Loading basic data\n",
      "Loading basic dictionary\n",
      "Finish!\n"
     ]
    }
   ],
   "source": [
    "\n",
    "import sys\n",
    "sys.path.append(\"../..\")\n",
    "\n",
    "from pandas import DataFrame\n",
    "import pandas as pd\n",
    "import os\n",
    "import pickle\n",
    "\n",
    "from app.components.scripts.get_tbca import TBCA\n",
    "from app.components.extract_data.extract_data import get_meals_codes_list\n",
    "import time\n",
    "\n",
    "datasetPicklePath = os.getcwd()  + \"/../../datasets/pickle\""
   ]
  },
  {
   "cell_type": "code",
   "execution_count": 2,
   "metadata": {},
   "outputs": [],
   "source": [
    "mealsCodes = get_meals_codes_list()"
   ]
  },
  {
   "cell_type": "code",
   "execution_count": 3,
   "metadata": {},
   "outputs": [],
   "source": [
    "def getDictTBCA(verbose=False):\n",
    "    fileName = \"dictTBCA.pickle\"\n",
    "    try:\n",
    "        with open(datasetPicklePath+f\"/{fileName}\", \"rb\") as file:\n",
    "            return pickle.load(file)\n",
    "    except:        \n",
    "        with open(datasetPicklePath+f\"/{fileName}\", \"wb\") as file:\n",
    "            dictTBCA: dict[str, \"TBCA\"] = {}\n",
    "            \n",
    "            for code in mealsCodes:\n",
    "                time.sleep(0.01)\n",
    "                dictTBCA[code] = TBCA.getTBCA(code, verbose=verbose)\n",
    "                \n",
    "            \n",
    "            pickle.dump(dictTBCA, file)\n",
    "            \n",
    "            return dictTBCA"
   ]
  },
  {
   "cell_type": "code",
   "execution_count": 4,
   "metadata": {},
   "outputs": [],
   "source": [
    "dictTBCA = getDictTBCA()"
   ]
  },
  {
   "cell_type": "code",
   "execution_count": 5,
   "metadata": {},
   "outputs": [
    {
     "name": "stdout",
     "output_type": "stream",
     "text": [
      "1122\n",
      "<class 'dict'>\n"
     ]
    }
   ],
   "source": [
    "print(len(dictTBCA))\n",
    "print(type(dictTBCA))"
   ]
  },
  {
   "cell_type": "code",
   "execution_count": 6,
   "metadata": {},
   "outputs": [
    {
     "name": "stdout",
     "output_type": "stream",
     "text": [
      "tbca code: C0002A\n",
      "portuguese: Pão francês, branco, c/ farinha de trigo refinada, de padaria (médias de diferentes amostras)  \n",
      "english: Bread, wheat, french, bakery (average of several samples)\n",
      "nutrients: {'ENERGIA_KCAL': 3.0, 'CHOTOT': 0.616, 'PTN': 0.0983, 'LIP': 0.0212, 'FIBRA': 0.026099999999999998, 'COLEST': 0.0, 'AGSAT': 0.0068000000000000005, 'AGPOLI': 0.0048, 'AGTRANS': 0.0025, 'CALCIO': 0.142, 'FERRO': 0.0433, 'SODIO': 6.81, 'MAGNESIO': 0.249, 'FOSFORO': 0.997, 'POTASSIO': 1.49, 'ZINCO': 0.008199999999999999, 'COBRE': 0.0014000000000000002, 'VITA_RAE': 0.0204, 'TIAMINA': 0.0040999999999999995, 'RIBOFLAVINA': 0.0070999999999999995, 'NIACINA': 0.0246, 'PIRIDOXAMINA': 0.0063, 'COBALAMINA': 0.0, 'VITC': 0.0, 'FOLATO': 1.49}\n",
      "tbca code: C0008D\n",
      "portuguese: Margarina (média várias amostras, c/ e s/ sal)  \n",
      "english: Margarine (average of various samples, with salt and unsalted)\n",
      "nutrients: {'ENERGIA_KCAL': 6.4, 'CHOTOT': 0.0, 'PTN': 0.0, 'LIP': 0.711, 'FIBRA': 0.0, 'COLEST': 0.0, 'AGSAT': 0.192, 'AGPOLI': 0.252, 'AGTRANS': 0.0355, 'CALCIO': 0.044199999999999996, 'FERRO': 0.0007000000000000001, 'SODIO': 8.13, 'MAGNESIO': 0.0101, 'FOSFORO': 0.0603, 'POTASSIO': 0.107, 'ZINCO': 0.0, 'COBRE': 0.0, 'VITA_RAE': 4.65, 'TIAMINA': 0.0, 'RIBOFLAVINA': 0.0, 'NIACINA': 0.0, 'PIRIDOXAMINA': 0.0, 'COBALAMINA': 0.0, 'VITC': 0.0, 'FOLATO': 0.0097}\n",
      "tbca code: C0081H\n",
      "portuguese: Bebida, café - infusão 8% - média, c/ leite (meio a meio), \"média\", s/ açúcar,  \n",
      "english: Beverage, coffee - infusion 8%, with milk (half-to-half), without sugar\n",
      "nutrients: {'ENERGIA_KCAL': 0.36, 'CHOTOT': 0.0363, 'PTN': 0.0173, 'LIP': 0.0165, 'FIBRA': 0.0, 'COLEST': 0.061900000000000004, 'AGSAT': 0.0101, 'AGPOLI': 0.0006, 'AGTRANS': 0.0, 'CALCIO': 0.5489999999999999, 'FERRO': 0.0004, 'SODIO': 0.32299999999999995, 'MAGNESIO': 0.0872, 'FOSFORO': 0.44799999999999995, 'POTASSIO': 1.28, 'ZINCO': 0.0019, 'COBRE': 0.0001, 'VITA_RAE': 0.244, 'TIAMINA': 0.0003, 'RIBOFLAVINA': 0.0015, 'NIACINA': 0.0084, 'PIRIDOXAMINA': 0.0, 'COBALAMINA': 0.0019, 'VITC': 0.0, 'FOLATO': 0.0339}\n",
      "tbca code: C0007K\n",
      "portuguese: Açúcar, refinado (média de diferentes amostras)  \n",
      "english: Sugar powered (mean of the several samples)\n",
      "nutrients: {'ENERGIA_KCAL': 3.97, 'CHOTOT': 0.99, 'PTN': 0.0016, 'LIP': 0.0, 'FIBRA': 0.0, 'COLEST': 0.0, 'AGSAT': 0.0, 'AGPOLI': 0.0, 'AGTRANS': 0.0, 'CALCIO': 0.035, 'FERRO': 0.0011, 'SODIO': 0.122, 'MAGNESIO': 0.0055000000000000005, 'FOSFORO': 0.0, 'POTASSIO': 0.0635, 'ZINCO': 0.0, 'COBRE': 0.0, 'VITA_RAE': 0.0, 'TIAMINA': 0.0, 'RIBOFLAVINA': 0.0, 'NIACINA': 0.0, 'PIRIDOXAMINA': 0.0, 'COBALAMINA': 0.0, 'VITC': 0.0, 'FOLATO': 0.0}\n",
      "tbca code: C0209A\n",
      "portuguese: Arroz, polido, cozido, c/ óleo, cebola e alho, c/ sal  \n",
      "english: Rice, white, cooked, with oil, onion, garlic and salt\n",
      "nutrients: {'ENERGIA_KCAL': 1.38, 'CHOTOT': 0.29100000000000004, 'PTN': 0.024, 'LIP': 0.0159, 'FIBRA': 0.0127, 'COLEST': 0.0, 'AGSAT': 0.0033, 'AGPOLI': 0.0077, 'AGTRANS': 0.0001, 'CALCIO': 0.0583, 'FERRO': 0.0033, 'SODIO': 1.89, 'MAGNESIO': 0.23600000000000002, 'FOSFORO': 0.223, 'POTASSIO': 0.317, 'ZINCO': 0.0051, 'COBRE': 0.0015, 'VITA_RAE': 0.0, 'TIAMINA': 0.0, 'RIBOFLAVINA': 0.0, 'NIACINA': 0.0, 'PIRIDOXAMINA': 0.0001, 'COBALAMINA': 0.0, 'VITC': 0.0045000000000000005, 'FOLATO': 0.0269}\n"
     ]
    }
   ],
   "source": [
    "for code, tbca in list(dictTBCA.items())[:5]:\n",
    "    print(f\"\"\"{tbca}\"\"\")    "
   ]
  },
  {
   "cell_type": "code",
   "execution_count": null,
   "metadata": {},
   "outputs": [],
   "source": []
  }
 ],
 "metadata": {
  "kernelspec": {
   "display_name": "env",
   "language": "python",
   "name": "python3"
  },
  "language_info": {
   "codemirror_mode": {
    "name": "ipython",
    "version": 3
   },
   "file_extension": ".py",
   "mimetype": "text/x-python",
   "name": "python",
   "nbconvert_exporter": "python",
   "pygments_lexer": "ipython3",
   "version": "3.9.6"
  }
 },
 "nbformat": 4,
 "nbformat_minor": 2
}
