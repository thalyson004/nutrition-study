{
 "cells": [
  {
   "cell_type": "code",
   "execution_count": 1,
   "metadata": {},
   "outputs": [],
   "source": [
    "import sys\n",
    "\n",
    "sys.path.append(\"../..\")"
   ]
  },
  {
   "cell_type": "code",
   "execution_count": 3,
   "metadata": {},
   "outputs": [],
   "source": [
    "from app.components.extract_data.extract_data import getDfConsumo\n",
    "\n",
    "\n",
    "dfConsumo = getDfConsumo()"
   ]
  },
  {
   "cell_type": "code",
   "execution_count": 4,
   "metadata": {},
   "outputs": [
    {
     "data": {
      "text/plain": [
       "Index(['UF', 'ESTRATO_POF', 'TIPO_SITUACAO_REG', 'COD_UPA', 'NUM_DOM',\n",
       "       'NUM_UC', 'COD_INFORMANTE', 'QUADRO', 'SEQ', 'V9005', 'V9007', 'V9001',\n",
       "       'V9015', 'V9016', 'V9017', 'V9018', 'V9019', 'V9020', 'V9021', 'V9022',\n",
       "       'V9023', 'V9024', 'V9025', 'V9026', 'V9027', 'V9028', 'V9029', 'V9030',\n",
       "       'COD_UNIDADE_MEDIDA_FINAL', 'COD_PREPARACAO_FINAL', 'GRAMATURA1', 'QTD',\n",
       "       'COD_TBCA', 'ENERGIA_KCAL', 'ENERGIA_KJ', 'PTN', 'CHOTOT', 'FIBRA',\n",
       "       'LIP', 'COLEST', 'AGSAT', 'AGMONO', 'AGPOLI', 'AGTRANS', 'CALCIO',\n",
       "       'FERRO', 'SODIO', 'MAGNESIO', 'FOSFORO', 'POTASSIO', 'COBRE', 'ZINCO',\n",
       "       'VITA_RAE', 'TIAMINA', 'RIBOFLAVINA', 'NIACINA', 'PIRIDOXAMINA',\n",
       "       'COBALAMINA', 'VITD', 'VITE', 'VITC', 'FOLATO', 'PESO', 'PESO_FINAL',\n",
       "       'RENDA_TOTAL', 'DIA_SEMANA', 'DIA_ATIPICO', 'id', 'iddomic', 'PESSOA'],\n",
       "      dtype='object')"
      ]
     },
     "execution_count": 4,
     "metadata": {},
     "output_type": "execute_result"
    }
   ],
   "source": [
    "dfConsumo.keys()"
   ]
  },
  {
   "cell_type": "code",
   "execution_count": null,
   "metadata": {},
   "outputs": [],
   "source": []
  }
 ],
 "metadata": {
  "kernelspec": {
   "display_name": "env",
   "language": "python",
   "name": "python3"
  },
  "language_info": {
   "codemirror_mode": {
    "name": "ipython",
    "version": 3
   },
   "file_extension": ".py",
   "mimetype": "text/x-python",
   "name": "python",
   "nbconvert_exporter": "python",
   "pygments_lexer": "ipython3",
   "version": "3.9.6"
  }
 },
 "nbformat": 4,
 "nbformat_minor": 2
}
