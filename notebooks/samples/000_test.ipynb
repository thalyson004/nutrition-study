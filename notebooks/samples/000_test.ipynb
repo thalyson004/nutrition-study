{
 "cells": [
  {
   "cell_type": "code",
   "execution_count": 4,
   "metadata": {},
   "outputs": [],
   "source": [
    "import sys\n",
    "\n",
    "sys.path.append(\"../..\")"
   ]
  },
  {
   "cell_type": "code",
   "execution_count": 5,
   "metadata": {},
   "outputs": [],
   "source": [
    "from app.components.extract_data.extract_data import getDfConsumo\n",
    "\n",
    "\n",
    "dfConsumo = getDfConsumo()"
   ]
  },
  {
   "cell_type": "code",
   "execution_count": 6,
   "metadata": {},
   "outputs": [
    {
     "data": {
      "text/plain": [
       "Index(['UF', 'ESTRATO_POF', 'TIPO_SITUACAO_REG', 'COD_UPA', 'NUM_DOM',\n",
       "       'NUM_UC', 'COD_INFORMANTE', 'QUADRO', 'SEQ', 'V9005', 'V9007', 'V9001',\n",
       "       'V9015', 'V9016', 'V9017', 'V9018', 'V9019', 'V9020', 'V9021', 'V9022',\n",
       "       'V9023', 'V9024', 'V9025', 'V9026', 'V9027', 'V9028', 'V9029', 'V9030',\n",
       "       'COD_UNIDADE_MEDIDA_FINAL', 'COD_PREPARACAO_FINAL', 'GRAMATURA1', 'QTD',\n",
       "       'COD_TBCA', 'ENERGIA_KCAL', 'ENERGIA_KJ', 'PTN', 'CHOTOT', 'FIBRA',\n",
       "       'LIP', 'COLEST', 'AGSAT', 'AGMONO', 'AGPOLI', 'AGTRANS', 'CALCIO',\n",
       "       'FERRO', 'SODIO', 'MAGNESIO', 'FOSFORO', 'POTASSIO', 'COBRE', 'ZINCO',\n",
       "       'VITA_RAE', 'TIAMINA', 'RIBOFLAVINA', 'NIACINA', 'PIRIDOXAMINA',\n",
       "       'COBALAMINA', 'VITD', 'VITE', 'VITC', 'FOLATO', 'PESO', 'PESO_FINAL',\n",
       "       'RENDA_TOTAL', 'DIA_SEMANA', 'DIA_ATIPICO', 'id', 'iddomic', 'PESSOA'],\n",
       "      dtype='object')"
      ]
     },
     "execution_count": 6,
     "metadata": {},
     "output_type": "execute_result"
    }
   ],
   "source": [
    "dfConsumo.keys()"
   ]
  },
  {
   "cell_type": "code",
   "execution_count": 7,
   "metadata": {},
   "outputs": [
    {
     "data": {
      "text/plain": [
       "0     b'C0002A'\n",
       "1     b'C0008D'\n",
       "2     b'C0081H'\n",
       "3     b'C0007K'\n",
       "4     b'C0209A'\n",
       "5     b'C0638F'\n",
       "6     b'C0091T'\n",
       "7     b'C0008U'\n",
       "8     b'C0209A'\n",
       "9     b'C0638F'\n",
       "10    b'C0091T'\n",
       "11    b'C0145H'\n",
       "26    b'C0002A'\n",
       "27    b'C0008D'\n",
       "28    b'C0081H'\n",
       "29    b'C0007K'\n",
       "30    b'C0209A'\n",
       "31    b'C0091T'\n",
       "32    b'C0638F'\n",
       "33    b'C0008U'\n",
       "34    b'C0209A'\n",
       "35    b'C0638F'\n",
       "36    b'C0091T'\n",
       "37    b'C0145H'\n",
       "54    b'C0002A'\n",
       "55    b'C0008D'\n",
       "56    b'C0638F'\n",
       "57    b'C0091T'\n",
       "58    b'C0081H'\n",
       "59    b'C0007K'\n",
       "Name: COD_TBCA, dtype: object"
      ]
     },
     "execution_count": 7,
     "metadata": {},
     "output_type": "execute_result"
    }
   ],
   "source": [
    "dfConsumo[\"COD_TBCA\"].head(30)"
   ]
  },
  {
   "cell_type": "code",
   "execution_count": 8,
   "metadata": {},
   "outputs": [
    {
     "data": {
      "text/plain": [
       "['a', 'b', 'c']"
      ]
     },
     "execution_count": 8,
     "metadata": {},
     "output_type": "execute_result"
    }
   ],
   "source": [
    "list(dict({\"a\":3, \"b\":6, \"c\":7}))"
   ]
  },
  {
   "cell_type": "code",
   "execution_count": 11,
   "metadata": {},
   "outputs": [
    {
     "data": {
      "text/plain": [
       "{'ENERGIA_KCAL': 'Energy (kcal)',\n",
       " 'CHOTOT': 'Carbohydrates (g)',\n",
       " 'PTN': 'Protein (g)',\n",
       " 'LIP': 'Total fats (g)',\n",
       " 'FIBRA': 'Total fiber (g)',\n",
       " 'AGPOLI': 'PUFA (g)',\n",
       " 'AGTRANS': 'Trans-fat (g)',\n",
       " 'AGSAT': 'Saturated fat (g)',\n",
       " 'COLEST': 'Cholesterol (mg)',\n",
       " 'CALCIO': 'Calcium (mg)',\n",
       " 'SODIO': 'Sodium (mg)',\n",
       " 'POTASSIO': 'Potassium (mg)',\n",
       " 'FERRO': 'Iron (mg)',\n",
       " 'MAGNESIO': 'Magnesium (mg)',\n",
       " 'TIAMINA': 'Vitamin B1 (mg)',\n",
       " 'RIBOFLAVINA': 'Vitamin B2 (mg)',\n",
       " 'NIACINA': 'Niacin/B3 (mg)',\n",
       " 'PIRIDOXAMINA': 'Vitamin B6 (mg)',\n",
       " 'COBALAMINA': 'Vitamin B12 (mcg)',\n",
       " 'VITC': 'Vitamin C (mg)',\n",
       " 'VITA_RAE': 'Vitamin A (µg)',\n",
       " 'COBRE': 'Copper (mg)',\n",
       " 'FOLATO': 'Folate (µg)',\n",
       " 'FOSFORO': 'Phosphorus (mg)',\n",
       " 'ZINCO': 'Zinc (mg)'}"
      ]
     },
     "execution_count": 11,
     "metadata": {},
     "output_type": "execute_result"
    }
   ],
   "source": [
    "from app.components.extract_data.dataframes.dictionaries.nutrients import nutrients\n",
    "\n",
    "\n",
    "nutrients"
   ]
  },
  {
   "cell_type": "code",
   "execution_count": 13,
   "metadata": {},
   "outputs": [
    {
     "name": "stdout",
     "output_type": "stream",
     "text": [
      "['ENERGIA_KCAL', 'CHOTOT', 'PTN', 'LIP', 'FIBRA', 'AGPOLI', 'AGTRANS', 'AGSAT', 'COLEST', 'CALCIO', 'SODIO', 'POTASSIO', 'FERRO', 'MAGNESIO', 'TIAMINA', 'RIBOFLAVINA', 'NIACINA', 'PIRIDOXAMINA', 'COBALAMINA', 'VITC', 'VITA_RAE', 'COBRE', 'FOLATO', 'FOSFORO', 'ZINCO']\n"
     ]
    }
   ],
   "source": [
    "print(list(nutrients))"
   ]
  },
  {
   "cell_type": "code",
   "execution_count": null,
   "metadata": {},
   "outputs": [],
   "source": []
  }
 ],
 "metadata": {
  "kernelspec": {
   "display_name": "env",
   "language": "python",
   "name": "python3"
  },
  "language_info": {
   "codemirror_mode": {
    "name": "ipython",
    "version": 3
   },
   "file_extension": ".py",
   "mimetype": "text/x-python",
   "name": "python",
   "nbconvert_exporter": "python",
   "pygments_lexer": "ipython3",
   "version": "3.9.6"
  }
 },
 "nbformat": 4,
 "nbformat_minor": 2
}
